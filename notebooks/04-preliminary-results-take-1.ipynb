{
 "cells": [
  {
   "cell_type": "code",
   "execution_count": 1,
   "id": "6c67019f-94e2-47da-8844-ce4340dac938",
   "metadata": {
    "tags": []
   },
   "outputs": [],
   "source": [
    "import os, sys\n",
    "\n",
    "from pathlib import Path\n",
    "\n",
    "import numpy as np\n",
    "import pandas as pd\n",
    "import seaborn as sns\n",
    "import matplotlib.pyplot as plt\n",
    "\n",
    "sns.set(style=\"whitegrid\")\n",
    "\n",
    "from sklearn.utils.extmath import row_norms\n",
    "from sklearn.metrics.pairwise import _euclidean_distances\n",
    "\n",
    "\n",
    "project_dir = os.path.abspath(\"..\")\n",
    "if project_dir not in sys.path:\n",
    "    sys.path.insert(0, project_dir)\n",
    "\n",
    "from yace.run_worker import JobInfo"
   ]
  },
  {
   "cell_type": "code",
   "execution_count": 2,
   "id": "9f922c2a-54ed-4cbd-a449-a2c6532a21dd",
   "metadata": {},
   "outputs": [],
   "source": [
    "def get_performance_results(working_dir):\n",
    "    distortions_rand = pd.read_feather(working_dir/\"distortions-random-solutions.feather\")\n",
    "    distortions_conv = pd.read_feather(working_dir/\"distortions-convex-solutions.feather\")\n",
    "    \n",
    "    df1 = distortions_rand.agg(\n",
    "        rand_distortion_mean=(\"distortion\", np.mean),\n",
    "        rand_distortion_std=(\"distortion\", np.std),\n",
    "        rand_distortion_min=(\"distortion\", np.min),\n",
    "        rand_distortion_max=(\"distortion\", np.max),\n",
    "    )\n",
    "\n",
    "    df2 = distortions_conv.agg(\n",
    "        conv_distortion_mean=(\"distortion\", np.mean),\n",
    "        conv_distortion_std=(\"distortion\", np.std),\n",
    "        conv_distortion_min=(\"distortion\", np.min),\n",
    "        conv_distortion_max=(\"distortion\", np.max),\n",
    "    )\n",
    "\n",
    "    performance_results = pd.concat([df1, df2]).T.to_dict(orient=\"records\")[0]\n",
    "    return performance_results\n",
    "\n",
    "def get_results(file_paths):\n",
    "    raw_data = []\n",
    "    for index, job_info_path in enumerate(file_paths):\n",
    "        job_info = JobInfo.load_json(job_info_path)\n",
    "        experiment_type = job_info.command_params[\"experiment-type\"]\n",
    "        working_dir = job_info_path.parent\n",
    "        if len(list(working_dir.glob(\"*.*\"))) == 0:\n",
    "            continue\n",
    "        perf_results = get_performance_results(working_dir=working_dir)\n",
    "        duration_secs = int((job_info.completed_at - job_info.started_at).total_seconds())\n",
    "        raw_data.append({\n",
    "            \"k\": job_info.experiment_params[\"k\"],\n",
    "            \"epsilon\": job_info.experiment_params[\"epsilon\"],\n",
    "            \"algorithm\": job_info.experiment_params[\"algorithm_name\"],\n",
    "            \"running_time\": duration_secs,\n",
    "            **perf_results,\n",
    "        })\n",
    "    df_data = pd.DataFrame(raw_data)\n",
    "    return df_data\n",
    "\n",
    "def get_raw_results(file_paths):\n",
    "    data_frames = []\n",
    "    for index, job_info_path in enumerate(file_paths):\n",
    "        job_info = JobInfo.load_json(job_info_path)\n",
    "        experiment_type = job_info.command_params[\"experiment-type\"]\n",
    "        working_dir = job_info_path.parent\n",
    "        duration_secs = int((job_info.completed_at - job_info.started_at).total_seconds())\n",
    "        if not (working_dir/\"distortions-random-solutions.feather\").exists():\n",
    "            continue\n",
    "        if not (working_dir/\"distortions-convex-solutions.feather\").exists():\n",
    "            continue\n",
    "        df_perf_data = pd.concat([\n",
    "            pd.read_feather(working_dir/\"distortions-random-solutions.feather\"),\n",
    "            pd.read_feather(working_dir/\"distortions-convex-solutions.feather\")\n",
    "        ])\n",
    "        df_perf_data[\"experiment_id\"] = working_dir.name\n",
    "        df_perf_data[\"experiment_type\"] = experiment_type\n",
    "        df_perf_data[\"k\"] = job_info.experiment_params[\"k\"]\n",
    "        df_perf_data[\"epsilon\"] = job_info.experiment_params[\"epsilon\"]\n",
    "        df_perf_data[\"algorithm\"] = job_info.experiment_params[\"algorithm_name\"]\n",
    "        df_perf_data[\"n_points\"] = job_info.experiment_params[\"n_points\"]\n",
    "        df_perf_data[\"coreset_size\"] = job_info.experiment_params[\"coreset_size\"]\n",
    "        df_perf_data[\"running_time_secs\"] = duration_secs\n",
    "        df_perf_data[\"job_info_path\"] = job_info_path\n",
    "        data_frames.append(df_perf_data)\n",
    "    df_data = pd.concat(data_frames)\n",
    "    return df_data\n",
    "\n",
    "def add_combined_mean_std(df: pd.DataFrame, attr: str):\n",
    "    def combiner(row) -> str:\n",
    "        mean = row[f\"{attr}_mean\"]\n",
    "        std =  row[f\"{attr}_std\"]\n",
    "        return f\"{mean:0.4f} ({std:0.5f})\"\n",
    "    df[f\"{attr}_mean_std\"] = df.apply(lambda x: combiner(x), axis=1)\n"
   ]
  },
  {
   "cell_type": "code",
   "execution_count": 3,
   "id": "45cb58c1-7e43-42a2-86fe-cce5e556896d",
   "metadata": {},
   "outputs": [
    {
     "name": "stdout",
     "output_type": "stream",
     "text": [
      "Number of job files: 200\n"
     ]
    }
   ],
   "source": [
    "job_info_paths = list(Path(\"../data/experiments-odin/simple/ss_us_01/\").glob(\"**/job-info.json\"))\n",
    "print(f\"Number of job files: {len(job_info_paths)}\")"
   ]
  },
  {
   "cell_type": "code",
   "execution_count": 4,
   "id": "aac3ad89-58d3-4666-bc70-f6842f2042e1",
   "metadata": {},
   "outputs": [
    {
     "name": "stdout",
     "output_type": "stream",
     "text": [
      "Number of results: 20000\n"
     ]
    }
   ],
   "source": [
    "df_raw_results = get_raw_results(job_info_paths)\n",
    "print(f\"Number of results: {df_raw_results.shape[0]}\")"
   ]
  },
  {
   "cell_type": "code",
   "execution_count": 5,
   "id": "d1019373-7dc5-4ebe-9ad4-630b008a5fe8",
   "metadata": {
    "tags": []
   },
   "outputs": [
    {
     "data": {
      "text/html": [
       "<div>\n",
       "<style scoped>\n",
       "    .dataframe tbody tr th:only-of-type {\n",
       "        vertical-align: middle;\n",
       "    }\n",
       "\n",
       "    .dataframe tbody tr th {\n",
       "        vertical-align: top;\n",
       "    }\n",
       "\n",
       "    .dataframe thead th {\n",
       "        text-align: right;\n",
       "    }\n",
       "</style>\n",
       "<table border=\"1\" class=\"dataframe\">\n",
       "  <thead>\n",
       "    <tr style=\"text-align: right;\">\n",
       "      <th></th>\n",
       "      <th>experiment_id</th>\n",
       "      <th>k</th>\n",
       "      <th>algorithm</th>\n",
       "      <th>epsilon</th>\n",
       "      <th>solution_type</th>\n",
       "      <th>distortion_mean</th>\n",
       "      <th>distortion_std</th>\n",
       "      <th>n_solutions</th>\n",
       "    </tr>\n",
       "  </thead>\n",
       "  <tbody>\n",
       "    <tr>\n",
       "      <th>0</th>\n",
       "      <td>2022-05-16-07-04-15-686114-030202</td>\n",
       "      <td>10</td>\n",
       "      <td>sensitivity-sampling</td>\n",
       "      <td>0.20</td>\n",
       "      <td>convex</td>\n",
       "      <td>1.018874</td>\n",
       "      <td>1.622563e-02</td>\n",
       "      <td>50</td>\n",
       "    </tr>\n",
       "    <tr>\n",
       "      <th>1</th>\n",
       "      <td>2022-05-16-07-04-15-686114-030202</td>\n",
       "      <td>10</td>\n",
       "      <td>sensitivity-sampling</td>\n",
       "      <td>0.20</td>\n",
       "      <td>random</td>\n",
       "      <td>1.004039</td>\n",
       "      <td>2.926536e-03</td>\n",
       "      <td>50</td>\n",
       "    </tr>\n",
       "    <tr>\n",
       "      <th>2</th>\n",
       "      <td>2022-05-16-07-04-15-687728-051438</td>\n",
       "      <td>10</td>\n",
       "      <td>sensitivity-sampling</td>\n",
       "      <td>0.10</td>\n",
       "      <td>convex</td>\n",
       "      <td>1.004294</td>\n",
       "      <td>3.241109e-03</td>\n",
       "      <td>50</td>\n",
       "    </tr>\n",
       "    <tr>\n",
       "      <th>3</th>\n",
       "      <td>2022-05-16-07-04-15-687728-051438</td>\n",
       "      <td>10</td>\n",
       "      <td>sensitivity-sampling</td>\n",
       "      <td>0.10</td>\n",
       "      <td>random</td>\n",
       "      <td>1.000770</td>\n",
       "      <td>4.928912e-04</td>\n",
       "      <td>50</td>\n",
       "    </tr>\n",
       "    <tr>\n",
       "      <th>4</th>\n",
       "      <td>2022-05-16-07-04-15-688743-001868</td>\n",
       "      <td>10</td>\n",
       "      <td>sensitivity-sampling</td>\n",
       "      <td>0.05</td>\n",
       "      <td>convex</td>\n",
       "      <td>1.001082</td>\n",
       "      <td>6.359034e-04</td>\n",
       "      <td>50</td>\n",
       "    </tr>\n",
       "    <tr>\n",
       "      <th>...</th>\n",
       "      <td>...</td>\n",
       "      <td>...</td>\n",
       "      <td>...</td>\n",
       "      <td>...</td>\n",
       "      <td>...</td>\n",
       "      <td>...</td>\n",
       "      <td>...</td>\n",
       "      <td>...</td>\n",
       "    </tr>\n",
       "    <tr>\n",
       "      <th>395</th>\n",
       "      <td>2022-05-16-07-04-15-776874-029917</td>\n",
       "      <td>100</td>\n",
       "      <td>uniform-sampling</td>\n",
       "      <td>0.10</td>\n",
       "      <td>random</td>\n",
       "      <td>1.000039</td>\n",
       "      <td>2.360866e-05</td>\n",
       "      <td>50</td>\n",
       "    </tr>\n",
       "    <tr>\n",
       "      <th>396</th>\n",
       "      <td>2022-05-16-07-04-15-777185-077521</td>\n",
       "      <td>100</td>\n",
       "      <td>uniform-sampling</td>\n",
       "      <td>0.05</td>\n",
       "      <td>convex</td>\n",
       "      <td>1.000207</td>\n",
       "      <td>1.752770e-04</td>\n",
       "      <td>50</td>\n",
       "    </tr>\n",
       "    <tr>\n",
       "      <th>397</th>\n",
       "      <td>2022-05-16-07-04-15-777185-077521</td>\n",
       "      <td>100</td>\n",
       "      <td>uniform-sampling</td>\n",
       "      <td>0.05</td>\n",
       "      <td>random</td>\n",
       "      <td>1.000009</td>\n",
       "      <td>5.723241e-06</td>\n",
       "      <td>50</td>\n",
       "    </tr>\n",
       "    <tr>\n",
       "      <th>398</th>\n",
       "      <td>2022-05-16-07-04-15-777474-029242</td>\n",
       "      <td>100</td>\n",
       "      <td>uniform-sampling</td>\n",
       "      <td>0.01</td>\n",
       "      <td>convex</td>\n",
       "      <td>1.000008</td>\n",
       "      <td>5.949368e-06</td>\n",
       "      <td>50</td>\n",
       "    </tr>\n",
       "    <tr>\n",
       "      <th>399</th>\n",
       "      <td>2022-05-16-07-04-15-777474-029242</td>\n",
       "      <td>100</td>\n",
       "      <td>uniform-sampling</td>\n",
       "      <td>0.01</td>\n",
       "      <td>random</td>\n",
       "      <td>1.000000</td>\n",
       "      <td>1.992519e-07</td>\n",
       "      <td>50</td>\n",
       "    </tr>\n",
       "  </tbody>\n",
       "</table>\n",
       "<p>400 rows × 8 columns</p>\n",
       "</div>"
      ],
      "text/plain": [
       "                         experiment_id    k             algorithm  epsilon  \\\n",
       "0    2022-05-16-07-04-15-686114-030202   10  sensitivity-sampling     0.20   \n",
       "1    2022-05-16-07-04-15-686114-030202   10  sensitivity-sampling     0.20   \n",
       "2    2022-05-16-07-04-15-687728-051438   10  sensitivity-sampling     0.10   \n",
       "3    2022-05-16-07-04-15-687728-051438   10  sensitivity-sampling     0.10   \n",
       "4    2022-05-16-07-04-15-688743-001868   10  sensitivity-sampling     0.05   \n",
       "..                                 ...  ...                   ...      ...   \n",
       "395  2022-05-16-07-04-15-776874-029917  100      uniform-sampling     0.10   \n",
       "396  2022-05-16-07-04-15-777185-077521  100      uniform-sampling     0.05   \n",
       "397  2022-05-16-07-04-15-777185-077521  100      uniform-sampling     0.05   \n",
       "398  2022-05-16-07-04-15-777474-029242  100      uniform-sampling     0.01   \n",
       "399  2022-05-16-07-04-15-777474-029242  100      uniform-sampling     0.01   \n",
       "\n",
       "    solution_type  distortion_mean  distortion_std  n_solutions  \n",
       "0          convex         1.018874    1.622563e-02           50  \n",
       "1          random         1.004039    2.926536e-03           50  \n",
       "2          convex         1.004294    3.241109e-03           50  \n",
       "3          random         1.000770    4.928912e-04           50  \n",
       "4          convex         1.001082    6.359034e-04           50  \n",
       "..            ...              ...             ...          ...  \n",
       "395        random         1.000039    2.360866e-05           50  \n",
       "396        convex         1.000207    1.752770e-04           50  \n",
       "397        random         1.000009    5.723241e-06           50  \n",
       "398        convex         1.000008    5.949368e-06           50  \n",
       "399        random         1.000000    1.992519e-07           50  \n",
       "\n",
       "[400 rows x 8 columns]"
      ]
     },
     "execution_count": 5,
     "metadata": {},
     "output_type": "execute_result"
    }
   ],
   "source": [
    "grouping_cols = [\"experiment_id\", \"k\", \"algorithm\", \"epsilon\", \"solution_type\"]\n",
    "aggregation_spec = dict(\n",
    "    distortion_mean=(\"distortion\", np.mean),\n",
    "    distortion_std=(\"distortion\", np.std),\n",
    "    n_solutions=(\"distortion\", \"count\")\n",
    ")\n",
    "df_grouped = df_raw_results.groupby(grouping_cols).agg(**aggregation_spec).reset_index()\n",
    "df_grouped"
   ]
  },
  {
   "cell_type": "code",
   "execution_count": 6,
   "id": "adfd746e-fb8b-48a5-9427-e0fa0f128f1f",
   "metadata": {},
   "outputs": [],
   "source": [
    "colors = sns.color_palette(\"tab10\")\n",
    "colors = sns.color_palette(\"bright\")\n",
    "algorithms = np.sort(df_raw_results.algorithm.unique())[::-1]\n",
    "algorithm_colors = {algo: colors[i] for i, algo in enumerate(algorithms)}\n",
    "df_raw_results[\"k_formatted\"] = \"$k$=\" + df_raw_results[\"k\"].astype(str)\n",
    "df_grouped[\"k_formatted\"] = \"$k$=\" + df_grouped[\"k\"].astype(str)"
   ]
  },
  {
   "cell_type": "code",
   "execution_count": 7,
   "id": "13a1c281-f93b-40e4-b06a-83aed31ebff6",
   "metadata": {},
   "outputs": [
    {
     "data": {
      "image/png": "[encoded data removed]",
      "text/plain": [
       "<Figure size 1728x864 with 8 Axes>"
      ]
     },
     "metadata": {
      "needs_background": "light"
     },
     "output_type": "display_data"
    }
   ],
   "source": [
    "solution_types = df_raw_results[\"solution_type\"].unique()\n",
    "epsilons = np.sort(df_raw_results[\"epsilon\"].unique())\n",
    "n_rows = len(solution_types)\n",
    "n_cols = len(epsilons)\n",
    "fig, axes = plt.subplots(nrows=n_rows, ncols=n_cols, sharey=True, figsize=(n_rows*12, n_cols*3))\n",
    "\n",
    "for i, solution_type in enumerate(solution_types):\n",
    "    for j, epsilon in enumerate(epsilons):\n",
    "        ax = axes[i,j]\n",
    "        f1 = df_raw_results[\"solution_type\"] == solution_type\n",
    "        f2 = df_raw_results[\"epsilon\"] == epsilon\n",
    "        df_filtered = df_raw_results[f1&f2].copy()\n",
    "        df_filtered.sort_values(by=[\"k\", \"algorithm\"], inplace=True)\n",
    "        sns.barplot(data=df_filtered, x=\"k_formatted\", y=\"distortion\", hue=\"algorithm\", ax=ax, palette=algorithm_colors)\n",
    "        ax.set_ylim(bottom=0.998, top=1.03)\n",
    "        ax.set_title(f\"Solution: {solution_type}, $\\\\epsilon=${epsilon}\")\n",
    "        ax.set_ylabel(f\"Distorton on {solution_type} solutions\")\n",
    "        ax.set_xlabel(\"\")\n",
    "        if j > 0:\n",
    "            ax.set_ylabel(\"\")            \n",
    "        if i == 0:\n",
    "            ax.set_xlabel(\"\")\n",
    "fig.subplots_adjust(wspace=0.01)\n",
    "# fig.savefig(\"distortions-instance-1-v3.pdf\", )"
   ]
  },
  {
   "cell_type": "markdown",
   "id": "b64f9db9-809d-44dc-a3ee-57c0cbca0305",
   "metadata": {
    "tags": []
   },
   "source": [
    "## Weight distribution"
   ]
  },
  {
   "cell_type": "code",
   "execution_count": 8,
   "id": "d60b439d-d76e-496e-8e12-2f68c1e25334",
   "metadata": {},
   "outputs": [],
   "source": [
    "def get_weights(df_data, epsilon: float=0.2, k: int=10):\n",
    "    results = dict()\n",
    "    algorithms = df_data.algorithm.unique()\n",
    "    for algo in algorithms:\n",
    "        f1 = df_data[\"solution_type\"] == \"convex\"\n",
    "        f2 = df_data[\"epsilon\"] == epsilon\n",
    "        f3 = df_data[\"algorithm\"] == algo\n",
    "        f4 = df_data[\"k\"] == k\n",
    "        \n",
    "        df_filtered = df_data[f1&f2&f3&f4].copy()\n",
    "        \n",
    "        job_info_path = df_filtered.sample(1)[\"job_info_path\"].iloc[0]\n",
    "        weights = np.load(job_info_path.parent / \"coreset-weights.npz\")[\"matrix\"]\n",
    "        results[algo] = weights\n",
    "    return results"
   ]
  },
  {
   "cell_type": "code",
   "execution_count": 9,
   "id": "f73d0cd9-e6d5-4934-8baa-29405329e5b3",
   "metadata": {},
   "outputs": [],
   "source": [
    "weights_map = get_weights(df_data=df_raw_results, epsilon=0.01, k=10)\n",
    "\n",
    "# us_coreset_weights, ss_coreset_weights = tuple(list(weights_map.values()))"
   ]
  },
  {
   "cell_type": "code",
   "execution_count": 10,
   "id": "7f359be0-a836-4fed-8962-c42c49f30273",
   "metadata": {},
   "outputs": [
    {
     "data": {
      "image/png": "[encoded data removed]",
      "text/plain": [
       "<Figure size 1008x360 with 1 Axes>"
      ]
     },
     "metadata": {
      "needs_background": "light"
     },
     "output_type": "display_data"
    }
   ],
   "source": [
    "n_weights = list(weights_map.values())[0].shape[0]\n",
    "a = np.arange(n_weights)\n",
    "\n",
    "with sns.plotting_context(\"notebook\", font_scale=1.4):\n",
    "    fig, ax = plt.subplots(figsize=(14, 5))\n",
    "    for algo, coreset_weights in weights_map.items():\n",
    "        sns.lineplot(x=a, y=coreset_weights, label=algo, ax=ax)\n",
    "    ax.set_ylabel(\"Coreset weight\")\n",
    "    ax.set_xlabel(\"Coreset point index\")\n",
    "    # ax.set_yscale(\"log\")\n",
    "    ax.set_title(\"Coreset weights for a randomly selected experiment on Instance 2 for $\\\\epsilon=0.01, k=10$\")"
   ]
  },
  {
   "cell_type": "code",
   "execution_count": null,
   "id": "ad5a19a9-f93d-4d37-bd10-7435aae76601",
   "metadata": {},
   "outputs": [],
   "source": []
  }
 ],
 "metadata": {
  "kernelspec": {
   "display_name": "Python 3 (ipykernel)",
   "language": "python",
   "name": "python3"
  },
  "language_info": {
   "codemirror_mode": {
    "name": "ipython",
    "version": 3
   },
   "file_extension": ".py",
   "mimetype": "text/x-python",
   "name": "python",
   "nbconvert_exporter": "python",
   "pygments_lexer": "ipython3",
   "version": "3.8.10"
  }
 },
 "nbformat": 4,
 "nbformat_minor": 5
}
