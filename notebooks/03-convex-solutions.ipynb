{
 "cells": [
  {
   "cell_type": "code",
   "execution_count": 1,
   "id": "ddce2fef-f367-4034-a528-eba6a5e3fa12",
   "metadata": {},
   "outputs": [],
   "source": [
    "import os, sys\n",
    "\n",
    "import numpy as np\n",
    "import seaborn as sns\n",
    "import matplotlib.pyplot as plt\n",
    "\n",
    "project_dir = os.path.abspath(\"..\")\n",
    "if project_dir not in sys.path:\n",
    "    sys.path.insert(0, project_dir)\n",
    "\n",
    "from yace.helpers.evaluation import generate_random_points_within_convex_hull\n",
    "from yace.data.synthetic import generate_simplex"
   ]
  },
  {
   "cell_type": "code",
   "execution_count": 2,
   "id": "235c6d66-541e-4cef-ab05-54d1ee865ffc",
   "metadata": {},
   "outputs": [],
   "source": [
    "k = 10\n",
    "epsilon = 0.05\n",
    "n_dim = 12649"
   ]
  },
  {
   "cell_type": "code",
   "execution_count": 3,
   "id": "18b05dd2-3b82-42b5-8c8e-ab370840351b",
   "metadata": {},
   "outputs": [],
   "source": [
    "X = generate_simplex(d=n_dim, alpha=1)"
   ]
  },
  {
   "cell_type": "code",
   "execution_count": 4,
   "id": "87dbb0ca-6b07-480e-9ed9-e18a17046291",
   "metadata": {},
   "outputs": [],
   "source": [
    "solution = generate_random_points_within_convex_hull(data_matrix=X, k=k, n_samples=10)"
   ]
  },
  {
   "cell_type": "code",
   "execution_count": 5,
   "id": "fe170f80-bea4-4c89-b6d0-96bc01262f37",
   "metadata": {},
   "outputs": [
    {
     "data": {
      "text/plain": [
       "<10x12649 sparse matrix of type '<class 'numpy.float64'>'\n",
       "\twith 100 stored elements in Compressed Sparse Row format>"
      ]
     },
     "execution_count": 5,
     "metadata": {},
     "output_type": "execute_result"
    }
   ],
   "source": [
    "solution"
   ]
  },
  {
   "cell_type": "code",
   "execution_count": null,
   "id": "00830e48-5e0d-4658-bcd6-e80fc2feb60e",
   "metadata": {},
   "outputs": [],
   "source": []
  }
 ],
 "metadata": {
  "kernelspec": {
   "display_name": "Python 3 (ipykernel)",
   "language": "python",
   "name": "python3"
  },
  "language_info": {
   "codemirror_mode": {
    "name": "ipython",
    "version": 3
   },
   "file_extension": ".py",
   "mimetype": "text/x-python",
   "name": "python",
   "nbconvert_exporter": "python",
   "pygments_lexer": "ipython3",
   "version": "3.8.10"
  }
 },
 "nbformat": 4,
 "nbformat_minor": 5
}
