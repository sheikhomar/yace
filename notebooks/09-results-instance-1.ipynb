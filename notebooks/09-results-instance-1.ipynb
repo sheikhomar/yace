{
 "cells": [
  {
   "cell_type": "code",
   "execution_count": 1,
   "id": "6c67019f-94e2-47da-8844-ce4340dac938",
   "metadata": {
    "jupyter": {
     "source_hidden": true
    },
    "tags": []
   },
   "outputs": [],
   "source": [
    "import os, sys\n",
    "\n",
    "from pathlib import Path\n",
    "\n",
    "import numpy as np\n",
    "import pandas as pd\n",
    "import seaborn as sns\n",
    "import matplotlib.pyplot as plt\n",
    "import matplotlib.colors as plt_colors\n",
    "\n",
    "sns.set(style=\"whitegrid\")\n",
    "\n",
    "from sklearn.utils.extmath import row_norms\n",
    "from sklearn.metrics.pairwise import _euclidean_distances\n",
    "from tqdm.auto import tqdm\n",
    "\n",
    "project_dir = os.path.abspath(\"..\")\n",
    "if project_dir not in sys.path:\n",
    "    sys.path.insert(0, project_dir)\n",
    "\n",
    "from yace.run_worker import JobInfo"
   ]
  },
  {
   "cell_type": "code",
   "execution_count": 2,
   "id": "9f922c2a-54ed-4cbd-a449-a2c6532a21dd",
   "metadata": {
    "jupyter": {
     "source_hidden": true
    },
    "tags": []
   },
   "outputs": [],
   "source": [
    "def get_performance_results(working_dir):\n",
    "    distortions_rand = pd.read_feather(working_dir/\"distortions-random-solutions.feather\")\n",
    "    distortions_conv = pd.read_feather(working_dir/\"distortions-convex-solutions.feather\")\n",
    "    \n",
    "    df1 = distortions_rand.agg(\n",
    "        rand_distortion_mean=(\"distortion\", np.mean),\n",
    "        rand_distortion_std=(\"distortion\", np.std),\n",
    "        rand_distortion_min=(\"distortion\", np.min),\n",
    "        rand_distortion_max=(\"distortion\", np.max),\n",
    "    )\n",
    "\n",
    "    df2 = distortions_conv.agg(\n",
    "        conv_distortion_mean=(\"distortion\", np.mean),\n",
    "        conv_distortion_std=(\"distortion\", np.std),\n",
    "        conv_distortion_min=(\"distortion\", np.min),\n",
    "        conv_distortion_max=(\"distortion\", np.max),\n",
    "    )\n",
    "\n",
    "    performance_results = pd.concat([df1, df2]).T.to_dict(orient=\"records\")[0]\n",
    "    return performance_results\n",
    "\n",
    "def get_results(file_paths):\n",
    "    raw_data = []\n",
    "    for index, job_info_path in enumerate(file_paths):\n",
    "        job_info = JobInfo.load_json(job_info_path)\n",
    "        experiment_type = job_info.command_params[\"experiment-type\"]\n",
    "        working_dir = job_info_path.parent\n",
    "        if len(list(working_dir.glob(\"*.*\"))) == 0:\n",
    "            continue\n",
    "        perf_results = get_performance_results(working_dir=working_dir)\n",
    "        duration_secs = int((job_info.completed_at - job_info.started_at).total_seconds())\n",
    "        raw_data.append({\n",
    "            \"k\": job_info.experiment_params[\"k\"],\n",
    "            \"epsilon\": job_info.experiment_params[\"epsilon\"],\n",
    "            \"algorithm\": job_info.experiment_params[\"algorithm_name\"],\n",
    "            \"running_time\": duration_secs,\n",
    "            **perf_results,\n",
    "        })\n",
    "    df_data = pd.DataFrame(raw_data)\n",
    "    return df_data\n",
    "\n",
    "def get_raw_results(file_paths):\n",
    "    data_frames = []\n",
    "    with tqdm(total=len(file_paths)) as pbar:\n",
    "        for index, job_info_path in enumerate(file_paths):\n",
    "            job_info = JobInfo.load_json(job_info_path)\n",
    "            experiment_type = job_info.command_params[\"experiment-type\"]\n",
    "            working_dir = job_info_path.parent\n",
    "            duration_secs = int((job_info.completed_at - job_info.started_at).total_seconds())\n",
    "            if not (working_dir/\"distortions-random-solutions.feather\").exists():\n",
    "                continue\n",
    "            if not (working_dir/\"distortions-convex-solutions.feather\").exists():\n",
    "                continue\n",
    "            df_perf_data = pd.concat([\n",
    "                pd.read_feather(working_dir/\"distortions-random-solutions.feather\"),\n",
    "                pd.read_feather(working_dir/\"distortions-convex-solutions.feather\")\n",
    "            ])\n",
    "            experiment_id = working_dir.name\n",
    "            if experiment_id.startswith(\"2022\"):\n",
    "                experiment_id = experiment_id[0:19]\n",
    "            else:\n",
    "                experiment_id = \"-\".join(experiment_id.split(\"-\")[0:2])\n",
    "            df_perf_data[\"experiment_id\"] = experiment_id\n",
    "            df_perf_data[\"experiment_name\"] = working_dir.parent.name\n",
    "            df_perf_data[\"experiment_type\"] = experiment_type\n",
    "            df_perf_data[\"running_time_secs\"] = duration_secs\n",
    "            df_perf_data[\"job_info_path\"] = job_info_path\n",
    "            \n",
    "            df_perf_data[\"algorithm\"] = job_info.experiment_params[\"algorithm_name\"]\n",
    "            \n",
    "            for param, val in job_info.experiment_params.items():\n",
    "                df_perf_data[f\"{param}\"] = val\n",
    "            data_frames.append(df_perf_data)\n",
    "            pbar.update()\n",
    "    df_data = pd.concat(data_frames)\n",
    "    return df_data\n",
    "\n",
    "def add_combined_mean_std(df: pd.DataFrame, attr: str):\n",
    "    def combiner(row) -> str:\n",
    "        mean = row[f\"{attr}_mean\"]\n",
    "        std =  row[f\"{attr}_std\"]\n",
    "        return f\"{mean:0.4f} ({std:0.5f})\"\n",
    "    df[f\"{attr}_mean_std\"] = df.apply(lambda x: combiner(x), axis=1)\n"
   ]
  },
  {
   "cell_type": "code",
   "execution_count": 3,
   "id": "a8601b7c-13c1-49ce-8b52-3371850a5ffe",
   "metadata": {
    "jupyter": {
     "source_hidden": true
    },
    "tags": []
   },
   "outputs": [
    {
     "name": "stdout",
     "output_type": "stream",
     "text": [
      "Number of job files: 9277\n"
     ]
    }
   ],
   "source": [
    "job_info_paths  = []\n",
    "job_info_paths += list(Path(\"../data/experiments-skadi/simple/epsilon_0_20/\").glob(\"**/job-info.json\"))\n",
    "job_info_paths += list(Path(\"../data/experiments-skadi/simple/epsilon_0_10/\").glob(\"**/job-info.json\"))\n",
    "job_info_paths += list(Path(\"../data/experiments-skadi/simple/epsilon_0_05/\").glob(\"**/job-info.json\"))\n",
    "job_info_paths += list(Path(\"../data/experiments-skadi/simple/epsilon_0_01/\").glob(\"**/job-info.json\"))\n",
    "print(f\"Number of job files: {len(job_info_paths)}\")"
   ]
  },
  {
   "cell_type": "code",
   "execution_count": null,
   "id": "aac3ad89-58d3-4666-bc70-f6842f2042e1",
   "metadata": {
    "jupyter": {
     "source_hidden": true
    },
    "tags": []
   },
   "outputs": [
    {
     "data": {
      "application/vnd.jupyter.widget-view+json": {
       "model_id": "f5526a4e0f834a2193ce37f6888a12ee",
       "version_major": 2,
       "version_minor": 0
      },
      "text/plain": [
       "  0%|          | 0/9277 [00:00<?, ?it/s]"
      ]
     },
     "metadata": {},
     "output_type": "display_data"
    }
   ],
   "source": [
    "df_raw_results = get_raw_results(job_info_paths)\n",
    "df_raw_results[\"k_formatted\"] = \"$k$=\" + df_raw_results[\"k\"].astype(str)\n",
    "print(f\"Number of results: {df_raw_results.shape[0]}\")"
   ]
  },
  {
   "cell_type": "code",
   "execution_count": null,
   "id": "d1876453-b7aa-402c-9ac3-9d027acc1926",
   "metadata": {
    "jupyter": {
     "source_hidden": true
    },
    "tags": []
   },
   "outputs": [],
   "source": [
    "# Count number of experiments by data set\n",
    "df_raw_results.groupby([\"experiment_name\"])[[\"experiment_id\"]].nunique().rename(columns={\"experiment_id\": \"n_experiments\"})"
   ]
  },
  {
   "cell_type": "code",
   "execution_count": null,
   "id": "adfd746e-fb8b-48a5-9427-e0fa0f128f1f",
   "metadata": {
    "jupyter": {
     "source_hidden": true
    },
    "tags": []
   },
   "outputs": [],
   "source": [
    "colors = sns.color_palette(\"colorblind\")\n",
    "# algorithms = np.sort(df_raw_results.algorithm.unique())[::-1]\n",
    "algorithms = ['sensitivity-sampling', 'uniform-sampling', ]\n",
    "algorithm_colors = {algo: colors[i] for i, algo in enumerate(algorithms)}"
   ]
  },
  {
   "cell_type": "code",
   "execution_count": null,
   "id": "25d3174f-7827-4010-bfbf-809ff724ebc4",
   "metadata": {
    "tags": []
   },
   "outputs": [],
   "source": [
    "coreset_exps = np.sort(df_raw_results[\"coreset_exp\"].unique())\n",
    "epsilons = np.sort(df_raw_results[\"epsilon\"].unique())\n",
    "n_rows = len(epsilons)\n",
    "n_cols = len(coreset_exps)\n",
    "fig, axes = plt.subplots(nrows=n_rows, ncols=n_cols, sharey=False, figsize=(18, n_rows*6))\n",
    "\n",
    "outlier_points_props = dict(\n",
    "    markerfacecolor='None',\n",
    "    markersize=1,\n",
    "    marker='o',\n",
    "    markeredgecolor=plt_colors.colorConverter.to_rgba('red', alpha=.3),\n",
    ")\n",
    "\n",
    "for i, epsilon in enumerate(epsilons):\n",
    "    for j, coreset_exp in enumerate(coreset_exps):\n",
    "        ax = axes[i, j] # axes[i,j]\n",
    "        f1 = df_raw_results[\"coreset_exp\"] == coreset_exp\n",
    "        f2 = df_raw_results[\"epsilon\"] == epsilon\n",
    "        f3 = df_raw_results[\"algorithm_name\"].isin([\"uniform-sampling\", \"sensitivity-sampling\"])\n",
    "        f4 = df_raw_results[\"solution_type\"] == \"convex\"\n",
    "        df_filtered = df_raw_results[f1 & f2 & f3].copy()\n",
    "        df_filtered.sort_values(by=[\"k\", \"algorithm_name\"], inplace=True)\n",
    "        sns.boxplot(\n",
    "            data=df_filtered, x=\"k_formatted\", y=\"distortion\", hue=\"algorithm_name\", palette=algorithm_colors,\n",
    "            flierprops=outlier_points_props,\n",
    "            ax=ax\n",
    "        )\n",
    "        ax.set_ylim({0.2: [0.9998, 1.08], 0.1: [1.0, 1.02], 0.05: [1.0, 1.008], 0.01: [1.0, 1.001]}[epsilon])\n",
    "        coreset_k_val = f\"k^{{{coreset_exp}}}\" if coreset_exp > 1 else \"k\"\n",
    "        ax.set_title(f\"$\\\\epsilon={epsilon}$  |  Coreset Size $T = {coreset_k_val} / 10 \\\\epsilon^2 $\")\n",
    "        ax.set_ylabel(f\"Distorton for $\\\\epsilon={epsilon}$\")\n",
    "        ax.set_xlabel(\"\")\n",
    "        if j > 0:\n",
    "            ax.set_ylabel(\"\")\n",
    "            ax.set_yticklabels([])\n",
    "        if i == 0:\n",
    "            ax.set_xlabel(\"\")\n",
    "        ax.legend(title=\"Algorithm\")\n",
    "fig.subplots_adjust(wspace=0.01)\n",
    "fig.savefig(f\"plots-boxplot-distortions-instance-1.pdf\", bbox_inches=\"tight\")"
   ]
  },
  {
   "cell_type": "code",
   "execution_count": null,
   "id": "5256bf9e-919b-457c-afc5-5de812437c90",
   "metadata": {},
   "outputs": [],
   "source": []
  }
 ],
 "metadata": {
  "kernelspec": {
   "display_name": "Python 3 (ipykernel)",
   "language": "python",
   "name": "python3"
  },
  "language_info": {
   "codemirror_mode": {
    "name": "ipython",
    "version": 3
   },
   "file_extension": ".py",
   "mimetype": "text/x-python",
   "name": "python",
   "nbconvert_exporter": "python",
   "pygments_lexer": "ipython3",
   "version": "3.8.10"
  }
 },
 "nbformat": 4,
 "nbformat_minor": 5
}
