{
 "cells": [
  {
   "cell_type": "code",
   "execution_count": 1,
   "id": "cea28c51-6bed-4aed-aeb2-c36f45d0dba9",
   "metadata": {},
   "outputs": [],
   "source": [
    "import numpy as np"
   ]
  },
  {
   "cell_type": "markdown",
   "id": "d27b0b7d-960d-46b9-b42d-66253897575d",
   "metadata": {
    "tags": []
   },
   "source": [
    "## Hard Instance 1"
   ]
  },
  {
   "cell_type": "code",
   "execution_count": 2,
   "id": "f8168ce1-9e97-4c79-8256-80d327f5676d",
   "metadata": {},
   "outputs": [
    {
     "name": "stdout",
     "output_type": "stream",
     "text": [
      "For k=10\n",
      " - Epsilon: 0.01,   number of points:   316228,   dimensions:   316228,   coreset size: 10000\n",
      " - Epsilon: 0.05,   number of points:    12649,   dimensions:    12649,   coreset size: 400\n",
      " - Epsilon: 0.10,   number of points:     3162,   dimensions:     3162,   coreset size: 100\n",
      " - Epsilon: 0.20,   number of points:      791,   dimensions:      791,   coreset size: 25\n",
      "For k=20\n",
      " - Epsilon: 0.01,   number of points:   894427,   dimensions:   894427,   coreset size: 20000\n",
      " - Epsilon: 0.05,   number of points:    35777,   dimensions:    35777,   coreset size: 800\n",
      " - Epsilon: 0.10,   number of points:     8944,   dimensions:     8944,   coreset size: 200\n",
      " - Epsilon: 0.20,   number of points:     2236,   dimensions:     2236,   coreset size: 50\n",
      "For k=50\n",
      " - Epsilon: 0.01,   number of points:  3535534,   dimensions:  3535534,   coreset size: 50000\n",
      " - Epsilon: 0.05,   number of points:   141421,   dimensions:   141421,   coreset size: 2000\n",
      " - Epsilon: 0.10,   number of points:    35355,   dimensions:    35355,   coreset size: 500\n",
      " - Epsilon: 0.20,   number of points:     8839,   dimensions:     8839,   coreset size: 125\n",
      "For k=70\n",
      " - Epsilon: 0.01,   number of points:  5856620,   dimensions:  5856620,   coreset size: 70000\n",
      " - Epsilon: 0.05,   number of points:   234265,   dimensions:   234265,   coreset size: 2800\n",
      " - Epsilon: 0.10,   number of points:    58566,   dimensions:    58566,   coreset size: 700\n",
      " - Epsilon: 0.20,   number of points:    14642,   dimensions:    14642,   coreset size: 175\n",
      "For k=100\n",
      " - Epsilon: 0.01,   number of points: 10000000,   dimensions: 10000000,   coreset size: 100000\n",
      " - Epsilon: 0.05,   number of points:   400000,   dimensions:   400000,   coreset size: 4000\n",
      " - Epsilon: 0.10,   number of points:   100000,   dimensions:   100000,   coreset size: 1000\n",
      " - Epsilon: 0.20,   number of points:    25000,   dimensions:    25000,   coreset size: 250\n"
     ]
    }
   ],
   "source": [
    "for k in [10, 20, 50, 70, 100]:\n",
    "    print(f\"For k={k}\")\n",
    "    for epsilon in [0.01, 0.05, 0.1, 0.2]:\n",
    "        n_points = np.power(k, 1.5) / np.power(epsilon, 2)\n",
    "        coreset_size = k / (10 *  np.power(epsilon, 2))\n",
    "        print(f\" - Epsilon: {epsilon:0.2f},   number of points: {n_points:8.0f},   dimensions: {n_points:8.0f},   coreset size: {coreset_size:0.0f}\")"
   ]
  },
  {
   "cell_type": "markdown",
   "id": "875b2955-40de-4957-8d7d-a5c334481626",
   "metadata": {
    "tags": []
   },
   "source": [
    "## Hard instance 2"
   ]
  },
  {
   "cell_type": "code",
   "execution_count": 3,
   "id": "8fe8fec1-70d6-4e77-9819-a4a020bce3d4",
   "metadata": {},
   "outputs": [
    {
     "name": "stdout",
     "output_type": "stream",
     "text": [
      "For k=10\n",
      " - Epsilon: 0.01,   simplex_size:  5,   cluster_size:  63245,   coreset size:  10000   alpha: 10.00   n_points:   316225   target_points: 316227 \n",
      " - Epsilon: 0.05,   simplex_size:  5,   cluster_size:   2529,   coreset size:    400   alpha:  4.47   n_points:    12645   target_points: 12649 \n",
      " - Epsilon: 0.10,   simplex_size:  5,   cluster_size:    632,   coreset size:    100   alpha:  3.16   n_points:     3160   target_points: 3162 \n",
      " - Epsilon: 0.20,   simplex_size:  5,   cluster_size:    158,   coreset size:     25   alpha:  2.24   n_points:      790   target_points: 790 \n",
      "For k=20\n",
      " - Epsilon: 0.01,   simplex_size: 10,   cluster_size:  89442,   coreset size:  20000   alpha: 10.00   n_points:   894420   target_points: 894427 \n",
      " - Epsilon: 0.05,   simplex_size: 10,   cluster_size:   3577,   coreset size:    800   alpha:  4.47   n_points:    35770   target_points: 35777 \n",
      " - Epsilon: 0.10,   simplex_size: 10,   cluster_size:    894,   coreset size:    200   alpha:  3.16   n_points:     8940   target_points: 8944 \n",
      " - Epsilon: 0.20,   simplex_size: 10,   cluster_size:    223,   coreset size:     50   alpha:  2.24   n_points:     2230   target_points: 2236 \n",
      "For k=50\n",
      " - Epsilon: 0.01,   simplex_size: 25,   cluster_size: 141421,   coreset size:  50000   alpha: 10.00   n_points:  3535525   target_points: 3535533 \n",
      " - Epsilon: 0.05,   simplex_size: 25,   cluster_size:   5656,   coreset size:   2000   alpha:  4.47   n_points:   141400   target_points: 141421 \n",
      " - Epsilon: 0.10,   simplex_size: 25,   cluster_size:   1414,   coreset size:    500   alpha:  3.16   n_points:    35350   target_points: 35355 \n",
      " - Epsilon: 0.20,   simplex_size: 25,   cluster_size:    353,   coreset size:    125   alpha:  2.24   n_points:     8825   target_points: 8838 \n",
      "For k=70\n",
      " - Epsilon: 0.01,   simplex_size: 35,   cluster_size: 167332,   coreset size:  70000   alpha: 10.00   n_points:  5856620   target_points: 5856620 \n",
      " - Epsilon: 0.05,   simplex_size: 35,   cluster_size:   6693,   coreset size:   2800   alpha:  4.47   n_points:   234255   target_points: 234264 \n",
      " - Epsilon: 0.10,   simplex_size: 35,   cluster_size:   1673,   coreset size:    700   alpha:  3.16   n_points:    58555   target_points: 58566 \n",
      " - Epsilon: 0.20,   simplex_size: 35,   cluster_size:    418,   coreset size:    175   alpha:  2.24   n_points:    14630   target_points: 14641 \n",
      "For k=100\n",
      " - Epsilon: 0.01,   simplex_size: 50,   cluster_size: 200000,   coreset size: 100000   alpha: 10.00   n_points: 10000000   target_points: 10000000 \n",
      " - Epsilon: 0.05,   simplex_size: 50,   cluster_size:   7999,   coreset size:   4000   alpha:  4.47   n_points:   399950   target_points: 399999 \n",
      " - Epsilon: 0.10,   simplex_size: 50,   cluster_size:   1999,   coreset size:   1000   alpha:  3.16   n_points:    99950   target_points: 99999 \n",
      " - Epsilon: 0.20,   simplex_size: 50,   cluster_size:    499,   coreset size:    250   alpha:  2.24   n_points:    24950   target_points: 24999 \n"
     ]
    }
   ],
   "source": [
    "for k in [10, 20, 50, 70, 100]:\n",
    "    print(f\"For k={k}\")\n",
    "    for epsilon in [0.01, 0.05, 0.1, 0.2]:\n",
    "        simplex_size = k/2\n",
    "        n_points_per_simplex = int(2 * np.sqrt(k) / np.power(epsilon, 2))\n",
    "        alpha = np.sqrt(1/epsilon)\n",
    "        coreset_size = k / (10 *  np.power(epsilon, 2))\n",
    "        \n",
    "        n_points_target = int(np.power(k, 1.5) / np.power(epsilon, 2))\n",
    "        n_gen_points = simplex_size * n_points_per_simplex\n",
    "        n_points_off = int(np.abs(n_points_target - n_gen_points))\n",
    "        assert n_points_off < 100, f\"Number of generated points is off by {n_points_off}. Should be less than 100.\"\n",
    "        \n",
    "        print(f\" - Epsilon: {epsilon:0.2f},   simplex_size: {simplex_size:2.0f},   cluster_size: {n_points_per_simplex:6.0f},   coreset size: {coreset_size:6.0f}   alpha: {alpha:5.2f}   n_points: {n_gen_points:8.0f}   target_points: {n_points_target} \")"
   ]
  },
  {
   "cell_type": "code",
   "execution_count": null,
   "id": "1b803917-9f59-47f1-ad20-887bb5d3f296",
   "metadata": {},
   "outputs": [],
   "source": []
  }
 ],
 "metadata": {
  "kernelspec": {
   "display_name": "Python 3 (ipykernel)",
   "language": "python",
   "name": "python3"
  },
  "language_info": {
   "codemirror_mode": {
    "name": "ipython",
    "version": 3
   },
   "file_extension": ".py",
   "mimetype": "text/x-python",
   "name": "python",
   "nbconvert_exporter": "python",
   "pygments_lexer": "ipython3",
   "version": "3.8.10"
  }
 },
 "nbformat": 4,
 "nbformat_minor": 5
}
