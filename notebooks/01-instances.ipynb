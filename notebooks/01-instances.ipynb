{
 "cells": [
  {
   "cell_type": "code",
   "execution_count": 1,
   "id": "cea28c51-6bed-4aed-aeb2-c36f45d0dba9",
   "metadata": {},
   "outputs": [],
   "source": [
    "import numpy as np"
   ]
  },
  {
   "cell_type": "markdown",
   "id": "d27b0b7d-960d-46b9-b42d-66253897575d",
   "metadata": {
    "tags": []
   },
   "source": [
    "## Hard Instance 1"
   ]
  },
  {
   "cell_type": "code",
   "execution_count": 4,
   "id": "f8168ce1-9e97-4c79-8256-80d327f5676d",
   "metadata": {},
   "outputs": [
    {
     "name": "stdout",
     "output_type": "stream",
     "text": [
      "For k=10\n",
      " - Epsilon: 0.01,   number of points:   316228,   dimensions:   316228,   coreset size: 10000\n",
      " - Epsilon: 0.05,   number of points:    12649,   dimensions:    12649,   coreset size: 400\n",
      " - Epsilon: 0.10,   number of points:     3162,   dimensions:     3162,   coreset size: 100\n",
      " - Epsilon: 0.20,   number of points:      791,   dimensions:      791,   coreset size: 25\n",
      "For k=20\n",
      " - Epsilon: 0.01,   number of points:   894427,   dimensions:   894427,   coreset size: 20000\n",
      " - Epsilon: 0.05,   number of points:    35777,   dimensions:    35777,   coreset size: 800\n",
      " - Epsilon: 0.10,   number of points:     8944,   dimensions:     8944,   coreset size: 200\n",
      " - Epsilon: 0.20,   number of points:     2236,   dimensions:     2236,   coreset size: 50\n",
      "For k=50\n",
      " - Epsilon: 0.01,   number of points:  3535534,   dimensions:  3535534,   coreset size: 50000\n",
      " - Epsilon: 0.05,   number of points:   141421,   dimensions:   141421,   coreset size: 2000\n",
      " - Epsilon: 0.10,   number of points:    35355,   dimensions:    35355,   coreset size: 500\n",
      " - Epsilon: 0.20,   number of points:     8839,   dimensions:     8839,   coreset size: 125\n",
      "For k=100\n",
      " - Epsilon: 0.01,   number of points: 10000000,   dimensions: 10000000,   coreset size: 100000\n",
      " - Epsilon: 0.05,   number of points:   400000,   dimensions:   400000,   coreset size: 4000\n",
      " - Epsilon: 0.10,   number of points:   100000,   dimensions:   100000,   coreset size: 1000\n",
      " - Epsilon: 0.20,   number of points:    25000,   dimensions:    25000,   coreset size: 250\n"
     ]
    }
   ],
   "source": [
    "for k in [10, 20, 50, 100]:\n",
    "    print(f\"For k={k}\")\n",
    "    for epsilon in [0.01, 0.05, 0.1, 0.2]:\n",
    "        n_points = np.power(k, 1.5) / np.power(epsilon, 2)\n",
    "        coreset_size = k / (10 *  np.power(epsilon, 2))\n",
    "        print(f\" - Epsilon: {epsilon:0.2f},   number of points: {n_points:8.0f},   dimensions: {n_points:8.0f},   coreset size: {coreset_size:0.0f}\")"
   ]
  },
  {
   "cell_type": "markdown",
   "id": "875b2955-40de-4957-8d7d-a5c334481626",
   "metadata": {
    "tags": []
   },
   "source": [
    "## Hard instance 2"
   ]
  },
  {
   "cell_type": "code",
   "execution_count": 5,
   "id": "8fe8fec1-70d6-4e77-9819-a4a020bce3d4",
   "metadata": {},
   "outputs": [
    {
     "name": "stdout",
     "output_type": "stream",
     "text": [
      "For k=10\n",
      " - Epsilon: 0.01,   s1:  5,   dimensions:   316228,   coreset size: 10000   alpha=10.00    alpha2=100.00\n",
      " - Epsilon: 0.05,   s1:  5,   dimensions:    12649,   coreset size: 400   alpha=4.47    alpha2=20.00\n",
      " - Epsilon: 0.10,   s1:  5,   dimensions:     3162,   coreset size: 100   alpha=3.16    alpha2=10.00\n",
      " - Epsilon: 0.20,   s1:  5,   dimensions:      791,   coreset size: 25   alpha=2.24    alpha2=5.00\n",
      "For k=20\n",
      " - Epsilon: 0.01,   s1: 10,   dimensions:   894427,   coreset size: 20000   alpha=10.00    alpha2=100.00\n",
      " - Epsilon: 0.05,   s1: 10,   dimensions:    35777,   coreset size: 800   alpha=4.47    alpha2=20.00\n",
      " - Epsilon: 0.10,   s1: 10,   dimensions:     8944,   coreset size: 200   alpha=3.16    alpha2=10.00\n",
      " - Epsilon: 0.20,   s1: 10,   dimensions:     2236,   coreset size: 50   alpha=2.24    alpha2=5.00\n",
      "For k=50\n",
      " - Epsilon: 0.01,   s1: 25,   dimensions:  3535534,   coreset size: 50000   alpha=10.00    alpha2=100.00\n",
      " - Epsilon: 0.05,   s1: 25,   dimensions:   141421,   coreset size: 2000   alpha=4.47    alpha2=20.00\n",
      " - Epsilon: 0.10,   s1: 25,   dimensions:    35355,   coreset size: 500   alpha=3.16    alpha2=10.00\n",
      " - Epsilon: 0.20,   s1: 25,   dimensions:     8839,   coreset size: 125   alpha=2.24    alpha2=5.00\n",
      "For k=100\n",
      " - Epsilon: 0.01,   s1: 50,   dimensions: 10000000,   coreset size: 100000   alpha=10.00    alpha2=100.00\n",
      " - Epsilon: 0.05,   s1: 50,   dimensions:   400000,   coreset size: 4000   alpha=4.47    alpha2=20.00\n",
      " - Epsilon: 0.10,   s1: 50,   dimensions:   100000,   coreset size: 1000   alpha=3.16    alpha2=10.00\n",
      " - Epsilon: 0.20,   s1: 50,   dimensions:    25000,   coreset size: 250   alpha=2.24    alpha2=5.00\n"
     ]
    }
   ],
   "source": [
    "for k in [10, 20, 50, 100]:\n",
    "    print(f\"For k={k}\")\n",
    "    for epsilon in [0.01, 0.05, 0.1, 0.2]:\n",
    "        s1 = k/2\n",
    "        s2 = np.sqrt(k) / np.power(epsilon, 2)\n",
    "        upper_bound = np.power(k, 1.5) / np.power(epsilon, 2)\n",
    "        alpha = np.sqrt(1/epsilon)\n",
    "        \n",
    "        coreset_size = k / (10 *  np.power(epsilon, 2))\n",
    "        n_dim = np.power(k, 1.5) / np.power(epsilon, 2)\n",
    "        n_points = np.power(k, 1.5) / np.power(epsilon, 2)\n",
    "        print(f\" - Epsilon: {epsilon:0.2f},   s1: {s1:2.0f},   dimensions: {n_dim:8.0f},   coreset size: {coreset_size:0.0f}   alpha={alpha:0.2f}    alpha2={1/epsilon:0.2f}\")"
   ]
  },
  {
   "cell_type": "code",
   "execution_count": null,
   "id": "1b803917-9f59-47f1-ad20-887bb5d3f296",
   "metadata": {},
   "outputs": [],
   "source": []
  }
 ],
 "metadata": {
  "kernelspec": {
   "display_name": "Python 3 (ipykernel)",
   "language": "python",
   "name": "python3"
  },
  "language_info": {
   "codemirror_mode": {
    "name": "ipython",
    "version": 3
   },
   "file_extension": ".py",
   "mimetype": "text/x-python",
   "name": "python",
   "nbconvert_exporter": "python",
   "pygments_lexer": "ipython3",
   "version": "3.8.10"
  }
 },
 "nbformat": 4,
 "nbformat_minor": 5
}
